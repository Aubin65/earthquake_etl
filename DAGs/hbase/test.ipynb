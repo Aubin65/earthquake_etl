{
 "cells": [
  {
   "cell_type": "code",
   "execution_count": 11,
   "metadata": {},
   "outputs": [
    {
     "name": "stdout",
     "output_type": "stream",
     "text": [
      "Tables disponibles : [b'test']\n"
     ]
    }
   ],
   "source": [
    "import happybase\n",
    "\n",
    "# Connexion à HBase via Zookeeper (port 2181 par défaut)\n",
    "connection = happybase.Connection('localhost', port=9090)\n",
    "\n",
    "# Vérifier la connexion\n",
    "connection.open()\n",
    "tables = connection.tables()\n",
    "print(\"Tables disponibles :\", tables)\n",
    "\n",
    "# Fermer la connexion\n",
    "connection.close()"
   ]
  },
  {
   "cell_type": "code",
   "execution_count": 10,
   "metadata": {},
   "outputs": [
    {
     "name": "stdout",
     "output_type": "stream",
     "text": [
      "Clé : b'row1', Données : {b'cf:a': b'value1'}\n",
      "Clé : b'row2', Données : {b'cf:b': b'value2'}\n",
      "Clé : b'row3', Données : {b'cf:c': b'value3'}\n",
      "Données de la ligne avec la clé 'row1' : {b'cf:a': b'value1'}\n"
     ]
    }
   ],
   "source": [
    "import happybase\n",
    "\n",
    "# Connexion à HBase via le port 9090\n",
    "connection = happybase.Connection('localhost', port=9090)\n",
    "\n",
    "# Vérifier la connexion\n",
    "connection.open()\n",
    "\n",
    "# Accéder à la table 'test'\n",
    "table = connection.table('test')\n",
    "\n",
    "# 1. Lire toutes les lignes de la table (scan)\n",
    "# Vous pouvez limiter le nombre de lignes retournées en utilisant `scan(limit=n)` si nécessaire.\n",
    "for key, data in table.scan():\n",
    "    print(f\"Clé : {key}, Données : {data}\")\n",
    "\n",
    "# 2. Lire une ligne spécifique en fonction de sa clé\n",
    "# Supposons que vous voulez lire une ligne avec la clé 'row1'.\n",
    "row = table.row('row1')\n",
    "print(f\"Données de la ligne avec la clé 'row1' : {row}\")\n",
    "\n",
    "# Fermer la connexion\n",
    "connection.close()"
   ]
  },
  {
   "cell_type": "code",
   "execution_count": null,
   "metadata": {},
   "outputs": [],
   "source": []
  }
 ],
 "metadata": {
  "kernelspec": {
   "display_name": "earthquake_env_airflow",
   "language": "python",
   "name": "python3"
  },
  "language_info": {
   "codemirror_mode": {
    "name": "ipython",
    "version": 3
   },
   "file_extension": ".py",
   "mimetype": "text/x-python",
   "name": "python",
   "nbconvert_exporter": "python",
   "pygments_lexer": "ipython3",
   "version": "3.11.2"
  }
 },
 "nbformat": 4,
 "nbformat_minor": 2
}
