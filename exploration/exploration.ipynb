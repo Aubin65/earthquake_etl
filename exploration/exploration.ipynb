{
 "cells": [
  {
   "cell_type": "code",
   "execution_count": 18,
   "metadata": {},
   "outputs": [],
   "source": [
    "import requests as re\n",
    "res = re.get(\"https://earthquake.usgs.gov/fdsnws/event/1/query?format=geojson&starttime=2024-11-26T09:21:32\").json()"
   ]
  },
  {
   "cell_type": "code",
   "execution_count": 19,
   "metadata": {},
   "outputs": [
    {
     "data": {
      "text/plain": [
       "{'type': 'FeatureCollection',\n",
       " 'metadata': {'generated': 1732616851000,\n",
       "  'url': 'https://earthquake.usgs.gov/fdsnws/event/1/query?format=geojson&starttime=2024-11-26T09:21:32',\n",
       "  'title': 'USGS Earthquakes',\n",
       "  'status': 200,\n",
       "  'api': '1.14.1',\n",
       "  'count': 3},\n",
       " 'features': [{'type': 'Feature',\n",
       "   'properties': {'mag': 2.1,\n",
       "    'place': '56 km SE of Pope-Vannoy Landing, Alaska',\n",
       "    'time': 1732616160555,\n",
       "    'updated': 1732616307967,\n",
       "    'tz': None,\n",
       "    'url': 'https://earthquake.usgs.gov/earthquakes/eventpage/ak024f7kxn07',\n",
       "    'detail': 'https://earthquake.usgs.gov/fdsnws/event/1/query?eventid=ak024f7kxn07&format=geojson',\n",
       "    'felt': None,\n",
       "    'cdi': None,\n",
       "    'mmi': None,\n",
       "    'alert': None,\n",
       "    'status': 'automatic',\n",
       "    'tsunami': 0,\n",
       "    'sig': 68,\n",
       "    'net': 'ak',\n",
       "    'code': '024f7kxn07',\n",
       "    'ids': ',ak024f7kxn07,',\n",
       "    'sources': ',ak,',\n",
       "    'types': ',origin,phase-data,',\n",
       "    'nst': None,\n",
       "    'dmin': None,\n",
       "    'rms': 0.64,\n",
       "    'gap': None,\n",
       "    'magType': 'ml',\n",
       "    'type': 'earthquake',\n",
       "    'title': 'M 2.1 - 56 km SE of Pope-Vannoy Landing, Alaska'},\n",
       "   'geometry': {'type': 'Point', 'coordinates': [-153.8798, 59.1574, 103.3]},\n",
       "   'id': 'ak024f7kxn07'},\n",
       "  {'type': 'Feature',\n",
       "   'properties': {'mag': 1.8,\n",
       "    'place': '64 km ENE of Pedro Bay, Alaska',\n",
       "    'time': 1732616148607,\n",
       "    'updated': 1732616248068,\n",
       "    'tz': None,\n",
       "    'url': 'https://earthquake.usgs.gov/earthquakes/eventpage/ak024f7kxizw',\n",
       "    'detail': 'https://earthquake.usgs.gov/fdsnws/event/1/query?eventid=ak024f7kxizw&format=geojson',\n",
       "    'felt': None,\n",
       "    'cdi': None,\n",
       "    'mmi': None,\n",
       "    'alert': None,\n",
       "    'status': 'automatic',\n",
       "    'tsunami': 0,\n",
       "    'sig': 50,\n",
       "    'net': 'ak',\n",
       "    'code': '024f7kxizw',\n",
       "    'ids': ',ak024f7kxizw,',\n",
       "    'sources': ',ak,',\n",
       "    'types': ',origin,phase-data,',\n",
       "    'nst': None,\n",
       "    'dmin': None,\n",
       "    'rms': 0.26,\n",
       "    'gap': None,\n",
       "    'magType': 'ml',\n",
       "    'type': 'earthquake',\n",
       "    'title': 'M 1.8 - 64 km ENE of Pedro Bay, Alaska'},\n",
       "   'geometry': {'type': 'Point', 'coordinates': [-153.0108, 59.955, 122.6]},\n",
       "   'id': 'ak024f7kxizw'},\n",
       "  {'type': 'Feature',\n",
       "   'properties': {'mag': 1.32,\n",
       "    'place': '9 km NW of The Geysers, CA',\n",
       "    'time': 1732612892410,\n",
       "    'updated': 1732613837118,\n",
       "    'tz': None,\n",
       "    'url': 'https://earthquake.usgs.gov/earthquakes/eventpage/nc75090571',\n",
       "    'detail': 'https://earthquake.usgs.gov/fdsnws/event/1/query?eventid=nc75090571&format=geojson',\n",
       "    'felt': None,\n",
       "    'cdi': None,\n",
       "    'mmi': None,\n",
       "    'alert': None,\n",
       "    'status': 'automatic',\n",
       "    'tsunami': 0,\n",
       "    'sig': 27,\n",
       "    'net': 'nc',\n",
       "    'code': '75090571',\n",
       "    'ids': ',nc75090571,',\n",
       "    'sources': ',nc,',\n",
       "    'types': ',nearby-cities,origin,phase-data,scitech-link,',\n",
       "    'nst': 27,\n",
       "    'dmin': 0.007061,\n",
       "    'rms': 0.03,\n",
       "    'gap': 104,\n",
       "    'magType': 'md',\n",
       "    'type': 'earthquake',\n",
       "    'title': 'M 1.3 - 9 km NW of The Geysers, CA'},\n",
       "   'geometry': {'type': 'Point',\n",
       "    'coordinates': [-122.842666625977, 38.8193321228027, 2.46000003814697]},\n",
       "   'id': 'nc75090571'}],\n",
       " 'bbox': [-153.8798,\n",
       "  38.819332122803,\n",
       "  2.460000038147,\n",
       "  -122.84266662598,\n",
       "  59.955,\n",
       "  122.6]}"
      ]
     },
     "execution_count": 19,
     "metadata": {},
     "output_type": "execute_result"
    }
   ],
   "source": [
    "res"
   ]
  },
  {
   "cell_type": "code",
   "execution_count": 20,
   "metadata": {},
   "outputs": [
    {
     "data": {
      "text/plain": [
       "3"
      ]
     },
     "execution_count": 20,
     "metadata": {},
     "output_type": "execute_result"
    }
   ],
   "source": [
    "len(res[\"features\"])"
   ]
  },
  {
   "cell_type": "code",
   "execution_count": 13,
   "metadata": {},
   "outputs": [
    {
     "data": {
      "text/plain": [
       "'2024-11-24T23:59:13'"
      ]
     },
     "execution_count": 13,
     "metadata": {},
     "output_type": "execute_result"
    }
   ],
   "source": [
    "from datetime import datetime, timezone\n",
    "datetime.utcfromtimestamp(1732492753770/1000).strftime('%Y-%m-%dT%H:%M:%S')"
   ]
  },
  {
   "cell_type": "code",
   "execution_count": 14,
   "metadata": {},
   "outputs": [
    {
     "data": {
      "text/plain": [
       "'2024-11-24T23:59:13'"
      ]
     },
     "execution_count": 14,
     "metadata": {},
     "output_type": "execute_result"
    }
   ],
   "source": [
    "datetime.fromtimestamp(1732492753770 / 1000, timezone.utc).strftime(\"%Y-%m-%dT%H:%M:%S\")"
   ]
  },
  {
   "cell_type": "code",
   "execution_count": 38,
   "metadata": {},
   "outputs": [
    {
     "data": {
      "text/plain": [
       "'2024-11-25T12:23:33'"
      ]
     },
     "execution_count": 38,
     "metadata": {},
     "output_type": "execute_result"
    }
   ],
   "source": [
    "datetime.now().strftime('%Y-%m-%dT%H:%M:%S')"
   ]
  },
  {
   "cell_type": "code",
   "execution_count": 44,
   "metadata": {},
   "outputs": [],
   "source": [
    "import pymongo\n",
    "def connect_mongo(\n",
    "        mongo_client: str = \"mongodb://localhost:27017/\",\n",
    "        mongo_db: str = \"earthquake_db\",\n",
    "        mongo_collection: str = \"earthquakes\",\n",
    "    ) -> tuple:\n",
    "    \"\"\"_summary_\n",
    "\n",
    "    Parameters\n",
    "    ----------\n",
    "    mongo_client : _type_, optional\n",
    "        url de connexion à la base de données MongoDB, by default \"mongodb://localhost:27017/\"\n",
    "    mongo_db : str, optional\n",
    "        _description_, by default \"earthquake_db\"\n",
    "    mongo_collection : str, optional\n",
    "        _description_, by default \"earthquakes\"\n",
    "\n",
    "    Returns\n",
    "    -------\n",
    "    tuple\n",
    "        Tuple contenant le client mongo, la db et la collection pour requêter la base de données\n",
    "    \"\"\"\n",
    "\n",
    "    client = pymongo.MongoClient(mongo_client)\n",
    "    db = client[mongo_db]\n",
    "    collection = db[mongo_collection]\n",
    "\n",
    "    return client, db, collection"
   ]
  },
  {
   "cell_type": "code",
   "execution_count": 46,
   "metadata": {},
   "outputs": [],
   "source": [
    "client, db, collection = connect_mongo(mongo_db=\"superheroes\", mongo_collection=\"info\")"
   ]
  },
  {
   "cell_type": "code",
   "execution_count": 47,
   "metadata": {},
   "outputs": [
    {
     "data": {
      "text/plain": [
       "pymongo.synchronous.collection.Collection"
      ]
     },
     "execution_count": 47,
     "metadata": {},
     "output_type": "execute_result"
    }
   ],
   "source": [
    "type(collection)"
   ]
  },
  {
   "cell_type": "code",
   "execution_count": 69,
   "metadata": {},
   "outputs": [
    {
     "data": {
      "text/plain": [
       "pymongo.synchronous.mongo_client.MongoClient"
      ]
     },
     "execution_count": 69,
     "metadata": {},
     "output_type": "execute_result"
    }
   ],
   "source": [
    "type(client)"
   ]
  },
  {
   "cell_type": "code",
   "execution_count": 49,
   "metadata": {},
   "outputs": [],
   "source": [
    "result = collection.aggregate([\n",
    "    {\"$group\": {\"_id\": None, \"maxScore\": {\"$max\": \"$weight(kg)\"}}}\n",
    "])"
   ]
  },
  {
   "cell_type": "code",
   "execution_count": 51,
   "metadata": {},
   "outputs": [
    {
     "name": "stdout",
     "output_type": "stream",
     "text": [
      "Valeur maximale : 900.0\n"
     ]
    }
   ],
   "source": [
    "max_value = next(result, None)\n",
    "if max_value:\n",
    "    print(\"Valeur maximale :\", max_value[\"maxScore\"])\n",
    "else:\n",
    "    print(\"Aucun document trouvé.\")"
   ]
  },
  {
   "cell_type": "code",
   "execution_count": null,
   "metadata": {},
   "outputs": [],
   "source": [
    "import pandas as pd"
   ]
  },
  {
   "cell_type": "code",
   "execution_count": 58,
   "metadata": {},
   "outputs": [
    {
     "name": "stdout",
     "output_type": "stream",
     "text": [
      "{'type': 'Feature', 'properties': {'mag': 1.6, 'place': '53 km NW of Toyah, Texas', 'time': 1732530093219, 'updated': 1732530409152, 'tz': None, 'url': 'https://earthquake.usgs.gov/earthquakes/eventpage/tx2024xdxb', 'detail': 'https://earthquake.usgs.gov/fdsnws/event/1/query?eventid=tx2024xdxb&format=geojson', 'felt': None, 'cdi': None, 'mmi': None, 'alert': None, 'status': 'automatic', 'tsunami': 0, 'sig': 39, 'net': 'tx', 'code': '2024xdxb', 'ids': ',tx2024xdxb,', 'sources': ',tx,', 'types': ',origin,phase-data,', 'nst': 17, 'dmin': 0.1, 'rms': 0.5, 'gap': 103, 'magType': 'ml', 'type': 'earthquake', 'title': 'M 1.6 - 53 km NW of Toyah, Texas'}, 'geometry': {'type': 'Point', 'coordinates': [-104.18, 31.667, 5.5381]}, 'id': 'tx2024xdxb'}\n"
     ]
    }
   ],
   "source": [
    "import pandas as pd\n",
    "data=res[\"features\"][0]\n",
    "print(data)"
   ]
  },
  {
   "cell_type": "code",
   "execution_count": 61,
   "metadata": {},
   "outputs": [
    {
     "data": {
      "text/plain": [
       "{'mag': 1.6,\n",
       " 'place': '53 km NW of Toyah, Texas',\n",
       " 'time': 1732530093219,\n",
       " 'updated': 1732530409152,\n",
       " 'tz': None,\n",
       " 'url': 'https://earthquake.usgs.gov/earthquakes/eventpage/tx2024xdxb',\n",
       " 'detail': 'https://earthquake.usgs.gov/fdsnws/event/1/query?eventid=tx2024xdxb&format=geojson',\n",
       " 'felt': None,\n",
       " 'cdi': None,\n",
       " 'mmi': None,\n",
       " 'alert': None,\n",
       " 'status': 'automatic',\n",
       " 'tsunami': 0,\n",
       " 'sig': 39,\n",
       " 'net': 'tx',\n",
       " 'code': '2024xdxb',\n",
       " 'ids': ',tx2024xdxb,',\n",
       " 'sources': ',tx,',\n",
       " 'types': ',origin,phase-data,',\n",
       " 'nst': 17,\n",
       " 'dmin': 0.1,\n",
       " 'rms': 0.5,\n",
       " 'gap': 103,\n",
       " 'magType': 'ml',\n",
       " 'type': 'earthquake',\n",
       " 'title': 'M 1.6 - 53 km NW of Toyah, Texas'}"
      ]
     },
     "execution_count": 61,
     "metadata": {},
     "output_type": "execute_result"
    }
   ],
   "source": [
    "res[\"features\"][0][\"properties\"]"
   ]
  },
  {
   "cell_type": "code",
   "execution_count": null,
   "metadata": {},
   "outputs": [],
   "source": []
  },
  {
   "cell_type": "markdown",
   "metadata": {},
   "source": [
    "Au dessus, on veut garder ```mag```, ```place```, ```time```, ```type```, ```nst```, ```dmin```, ```sig```, ```magType```"
   ]
  },
  {
   "cell_type": "code",
   "execution_count": 66,
   "metadata": {},
   "outputs": [
    {
     "data": {
      "text/plain": [
       "{'type': 'Point', 'coordinates': [-104.18, 31.667, 5.5381]}"
      ]
     },
     "execution_count": 66,
     "metadata": {},
     "output_type": "execute_result"
    }
   ],
   "source": [
    "res[\"features\"][0][\"geometry\"]"
   ]
  },
  {
   "cell_type": "code",
   "execution_count": 67,
   "metadata": {},
   "outputs": [],
   "source": [
    "final_dict = {\n",
    "    \"mag\": res[\"features\"][0][\"properties\"][\"mag\"],\n",
    "    \"place\": res[\"features\"][0][\"properties\"][\"place\"],\n",
    "    \"time\": res[\"features\"][0][\"properties\"][\"time\"],\n",
    "    \"type\": res[\"features\"][0][\"properties\"][\"type\"],\n",
    "    \"nst\": res[\"features\"][0][\"properties\"][\"nst\"],\n",
    "    \"dmin\": res[\"features\"][0][\"properties\"][\"dmin\"],\n",
    "    \"sig\": res[\"features\"][0][\"properties\"][\"sig\"],\n",
    "    \"magType\": res[\"features\"][0][\"properties\"][\"magType\"],\n",
    "    \"geometryType\" : res[\"features\"][0][\"geometry\"][\"type\"],\n",
    "    \"coordinates\" : res[\"features\"][0][\"geometry\"][\"coordinates\"]\n",
    "}"
   ]
  },
  {
   "cell_type": "code",
   "execution_count": 68,
   "metadata": {},
   "outputs": [
    {
     "data": {
      "text/plain": [
       "{'mag': 1.6,\n",
       " 'place': '53 km NW of Toyah, Texas',\n",
       " 'time': 1732530093219,\n",
       " 'type': 'earthquake',\n",
       " 'nst': 17,\n",
       " 'dmin': 0.1,\n",
       " 'sig': 39,\n",
       " 'magType': 'ml',\n",
       " 'geometryType': 'Point',\n",
       " 'coordinates': [-104.18, 31.667, 5.5381]}"
      ]
     },
     "execution_count": 68,
     "metadata": {},
     "output_type": "execute_result"
    }
   ],
   "source": [
    "final_dict"
   ]
  },
  {
   "cell_type": "code",
   "execution_count": 27,
   "metadata": {},
   "outputs": [],
   "source": [
    "import requests\n",
    "import pymongo\n",
    "def extract(\n",
    "        client: str = \"mongodb://localhost:27017/\",\n",
    "        db: str = \"earthquake_db\",\n",
    "        collection: str = \"earthquakes\",\n",
    "        request: str = \"https://earthquake.usgs.gov/fdsnws/event/1/query?\",\n",
    "        format: str = \"geojson\",\n",
    "        starttime: str = \"2024-11-01\",\n",
    "    ) -> dict:\n",
    "        \"\"\"Tâche d'extraction de la donnée depuis l'API\n",
    "\n",
    "        Parameters\n",
    "        ----------\n",
    "        request : _type_, optional\n",
    "            corps de la requête à l'API, by default \"https://earthquake.usgs.gov/fdsnws/event/1/query?\"\n",
    "        format : str, optional\n",
    "            format de la réponse attendu, by default \"geojson\"\n",
    "        starttime : str, optional\n",
    "            paramètre de la requête, by default \"2024-11-01\"\n",
    "        client : str\n",
    "            client de la base de données, issu de la fonction connect_mongo()\n",
    "        db : str\n",
    "            nom de la base de données, issu de la fonction connect_mongo()\n",
    "        collection : str\n",
    "            nom de la collection, issu de la fonction connect_mongo()\n",
    "\n",
    "        Returns\n",
    "        -------\n",
    "        dict\n",
    "            dictionnaire contenant les résultats de la requête API\n",
    "        \"\"\"\n",
    "\n",
    "        # -------------------------------------------------------------------------------------------------------------------------------------------#\n",
    "        # Connexion à la base de données MongoDB\n",
    "        client = pymongo.MongoClient(client)\n",
    "        db = client[db]\n",
    "        collection = db[collection]\n",
    "\n",
    "        # -------------------------------------------------------------------------------------------------------------------------------------------#\n",
    "        # Phase de récupération de la dernière date de requête\n",
    "\n",
    "        res = collection.aggregate([{\"$group\": {\"_id\": None, \"date\": {\"$max\": \"$date\"}}}])\n",
    "        \n",
    "\n",
    "        # Si il n'y a aucun document, starttime est égal à celui prédéfini, sinon au max trouvé dans la collection MongoDB\n",
    "        result = next(res, None)\n",
    "        print(f\"result : {result}\")\n",
    "        starttime = result[\"date\"] if result else starttime\n",
    "        print(f\"starttime : {starttime}\")\n",
    "\n",
    "        # -------------------------------------------------------------------------------------------------------------------------------------------#\n",
    "        # Requête API\n",
    "        final_api_request = f\"{request}format={format}&starttime={starttime}\"\n",
    "\n",
    "        raw_data = requests.get(final_api_request).json()\n",
    "\n",
    "        # -------------------------------------------------------------------------------------------------------------------------------------------#\n",
    "        # Fermeture du client MongoDB\n",
    "        client.close()\n",
    "\n",
    "        # -------------------------------------------------------------------------------------------------------------------------------------------#\n",
    "        # Vérification de l'existence de features\n",
    "\n",
    "        if len(raw_data[\"features\"]) > 0:\n",
    "            return raw_data\n",
    "        else:\n",
    "              print(\"Pas de nouvelles features\")"
   ]
  },
  {
   "cell_type": "code",
   "execution_count": 28,
   "metadata": {},
   "outputs": [
    {
     "name": "stdout",
     "output_type": "stream",
     "text": [
      "result : {'_id': None, 'date': '2024-11-26T09:21:32'}\n",
      "starttime : 2024-11-26T09:21:32\n"
     ]
    },
    {
     "data": {
      "text/plain": [
       "{'type': 'FeatureCollection',\n",
       " 'metadata': {'generated': 1732617069000,\n",
       "  'url': 'https://earthquake.usgs.gov/fdsnws/event/1/query?format=geojson&starttime=2024-11-26T09:21:32',\n",
       "  'title': 'USGS Earthquakes',\n",
       "  'status': 200,\n",
       "  'api': '1.14.1',\n",
       "  'count': 5},\n",
       " 'features': [{'type': 'Feature',\n",
       "   'properties': {'mag': 0.69,\n",
       "    'place': '10 km WNW of Cobb, CA',\n",
       "    'time': 1732616961900,\n",
       "    'updated': 1732617056350,\n",
       "    'tz': None,\n",
       "    'url': 'https://earthquake.usgs.gov/earthquakes/eventpage/nc75090581',\n",
       "    'detail': 'https://earthquake.usgs.gov/fdsnws/event/1/query?eventid=nc75090581&format=geojson',\n",
       "    'felt': None,\n",
       "    'cdi': None,\n",
       "    'mmi': None,\n",
       "    'alert': None,\n",
       "    'status': 'automatic',\n",
       "    'tsunami': 0,\n",
       "    'sig': 7,\n",
       "    'net': 'nc',\n",
       "    'code': '75090581',\n",
       "    'ids': ',nc75090581,',\n",
       "    'sources': ',nc,',\n",
       "    'types': ',nearby-cities,origin,phase-data,',\n",
       "    'nst': 9,\n",
       "    'dmin': 0.007217,\n",
       "    'rms': 0.02,\n",
       "    'gap': 123,\n",
       "    'magType': 'md',\n",
       "    'type': 'earthquake',\n",
       "    'title': 'M 0.7 - 10 km WNW of Cobb, CA'},\n",
       "   'geometry': {'type': 'Point',\n",
       "    'coordinates': [-122.830833435059, 38.8448333740234, 0.860000014305115]},\n",
       "   'id': 'nc75090581'},\n",
       "  {'type': 'Feature',\n",
       "   'properties': {'mag': 1.4,\n",
       "    'place': '27 km S of Susitna, Alaska',\n",
       "    'time': 1732616688619,\n",
       "    'updated': 1732616880946,\n",
       "    'tz': None,\n",
       "    'url': 'https://earthquake.usgs.gov/earthquakes/eventpage/ak024f7kzgfx',\n",
       "    'detail': 'https://earthquake.usgs.gov/fdsnws/event/1/query?eventid=ak024f7kzgfx&format=geojson',\n",
       "    'felt': None,\n",
       "    'cdi': None,\n",
       "    'mmi': None,\n",
       "    'alert': None,\n",
       "    'status': 'automatic',\n",
       "    'tsunami': 0,\n",
       "    'sig': 30,\n",
       "    'net': 'ak',\n",
       "    'code': '024f7kzgfx',\n",
       "    'ids': ',ak024f7kzgfx,',\n",
       "    'sources': ',ak,',\n",
       "    'types': ',origin,phase-data,',\n",
       "    'nst': None,\n",
       "    'dmin': None,\n",
       "    'rms': 0.23,\n",
       "    'gap': None,\n",
       "    'magType': 'ml',\n",
       "    'type': 'earthquake',\n",
       "    'title': 'M 1.4 - 27 km S of Susitna, Alaska'},\n",
       "   'geometry': {'type': 'Point', 'coordinates': [-150.5955, 61.2978, 60.6]},\n",
       "   'id': 'ak024f7kzgfx'},\n",
       "  {'type': 'Feature',\n",
       "   'properties': {'mag': 2.1,\n",
       "    'place': '56 km SE of Pope-Vannoy Landing, Alaska',\n",
       "    'time': 1732616160555,\n",
       "    'updated': 1732616307967,\n",
       "    'tz': None,\n",
       "    'url': 'https://earthquake.usgs.gov/earthquakes/eventpage/ak024f7kxn07',\n",
       "    'detail': 'https://earthquake.usgs.gov/fdsnws/event/1/query?eventid=ak024f7kxn07&format=geojson',\n",
       "    'felt': None,\n",
       "    'cdi': None,\n",
       "    'mmi': None,\n",
       "    'alert': None,\n",
       "    'status': 'automatic',\n",
       "    'tsunami': 0,\n",
       "    'sig': 68,\n",
       "    'net': 'ak',\n",
       "    'code': '024f7kxn07',\n",
       "    'ids': ',ak024f7kxn07,',\n",
       "    'sources': ',ak,',\n",
       "    'types': ',origin,phase-data,',\n",
       "    'nst': None,\n",
       "    'dmin': None,\n",
       "    'rms': 0.64,\n",
       "    'gap': None,\n",
       "    'magType': 'ml',\n",
       "    'type': 'earthquake',\n",
       "    'title': 'M 2.1 - 56 km SE of Pope-Vannoy Landing, Alaska'},\n",
       "   'geometry': {'type': 'Point', 'coordinates': [-153.8798, 59.1574, 103.3]},\n",
       "   'id': 'ak024f7kxn07'},\n",
       "  {'type': 'Feature',\n",
       "   'properties': {'mag': 1.8,\n",
       "    'place': '64 km ENE of Pedro Bay, Alaska',\n",
       "    'time': 1732616148607,\n",
       "    'updated': 1732616248068,\n",
       "    'tz': None,\n",
       "    'url': 'https://earthquake.usgs.gov/earthquakes/eventpage/ak024f7kxizw',\n",
       "    'detail': 'https://earthquake.usgs.gov/fdsnws/event/1/query?eventid=ak024f7kxizw&format=geojson',\n",
       "    'felt': None,\n",
       "    'cdi': None,\n",
       "    'mmi': None,\n",
       "    'alert': None,\n",
       "    'status': 'automatic',\n",
       "    'tsunami': 0,\n",
       "    'sig': 50,\n",
       "    'net': 'ak',\n",
       "    'code': '024f7kxizw',\n",
       "    'ids': ',ak024f7kxizw,',\n",
       "    'sources': ',ak,',\n",
       "    'types': ',origin,phase-data,',\n",
       "    'nst': None,\n",
       "    'dmin': None,\n",
       "    'rms': 0.26,\n",
       "    'gap': None,\n",
       "    'magType': 'ml',\n",
       "    'type': 'earthquake',\n",
       "    'title': 'M 1.8 - 64 km ENE of Pedro Bay, Alaska'},\n",
       "   'geometry': {'type': 'Point', 'coordinates': [-153.0108, 59.955, 122.6]},\n",
       "   'id': 'ak024f7kxizw'},\n",
       "  {'type': 'Feature',\n",
       "   'properties': {'mag': 1.32,\n",
       "    'place': '9 km NW of The Geysers, CA',\n",
       "    'time': 1732612892410,\n",
       "    'updated': 1732613837118,\n",
       "    'tz': None,\n",
       "    'url': 'https://earthquake.usgs.gov/earthquakes/eventpage/nc75090571',\n",
       "    'detail': 'https://earthquake.usgs.gov/fdsnws/event/1/query?eventid=nc75090571&format=geojson',\n",
       "    'felt': None,\n",
       "    'cdi': None,\n",
       "    'mmi': None,\n",
       "    'alert': None,\n",
       "    'status': 'automatic',\n",
       "    'tsunami': 0,\n",
       "    'sig': 27,\n",
       "    'net': 'nc',\n",
       "    'code': '75090571',\n",
       "    'ids': ',nc75090571,',\n",
       "    'sources': ',nc,',\n",
       "    'types': ',nearby-cities,origin,phase-data,scitech-link,',\n",
       "    'nst': 27,\n",
       "    'dmin': 0.007061,\n",
       "    'rms': 0.03,\n",
       "    'gap': 104,\n",
       "    'magType': 'md',\n",
       "    'type': 'earthquake',\n",
       "    'title': 'M 1.3 - 9 km NW of The Geysers, CA'},\n",
       "   'geometry': {'type': 'Point',\n",
       "    'coordinates': [-122.842666625977, 38.8193321228027, 2.46000003814697]},\n",
       "   'id': 'nc75090571'}],\n",
       " 'bbox': [-153.8798,\n",
       "  38.819332122803,\n",
       "  0.86000001430511,\n",
       "  -122.83083343506,\n",
       "  61.2978,\n",
       "  122.6]}"
      ]
     },
     "execution_count": 28,
     "metadata": {},
     "output_type": "execute_result"
    }
   ],
   "source": [
    "extract"
   ]
  },
  {
   "cell_type": "code",
   "execution_count": null,
   "metadata": {},
   "outputs": [],
   "source": []
  }
 ],
 "metadata": {
  "kernelspec": {
   "display_name": "earthquake_env",
   "language": "python",
   "name": "python3"
  },
  "language_info": {
   "codemirror_mode": {
    "name": "ipython",
    "version": 3
   },
   "file_extension": ".py",
   "mimetype": "text/x-python",
   "name": "python",
   "nbconvert_exporter": "python",
   "pygments_lexer": "ipython3",
   "version": "3.11.2"
  }
 },
 "nbformat": 4,
 "nbformat_minor": 2
}
