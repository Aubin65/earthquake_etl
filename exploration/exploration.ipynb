{
 "cells": [
  {
   "cell_type": "code",
   "execution_count": 4,
   "metadata": {},
   "outputs": [],
   "source": [
    "import requests as re\n",
    "res = re.get(\"https://earthquake.usgs.gov/fdsnws/event/1/query?format=geojson&starttime=2025-11-01\").json()"
   ]
  },
  {
   "cell_type": "code",
   "execution_count": 7,
   "metadata": {},
   "outputs": [
    {
     "data": {
      "text/plain": [
       "{'type': 'FeatureCollection',\n",
       " 'metadata': {'generated': 1732611248000,\n",
       "  'url': 'https://earthquake.usgs.gov/fdsnws/event/1/query?format=geojson&starttime=2025-11-01',\n",
       "  'title': 'USGS Earthquakes',\n",
       "  'status': 200,\n",
       "  'api': '1.14.1',\n",
       "  'count': 0},\n",
       " 'features': []}"
      ]
     },
     "execution_count": 7,
     "metadata": {},
     "output_type": "execute_result"
    }
   ],
   "source": [
    "res"
   ]
  },
  {
   "cell_type": "code",
   "execution_count": 5,
   "metadata": {},
   "outputs": [
    {
     "data": {
      "text/plain": [
       "0"
      ]
     },
     "execution_count": 5,
     "metadata": {},
     "output_type": "execute_result"
    }
   ],
   "source": [
    "len(res[\"features\"])"
   ]
  },
  {
   "cell_type": "code",
   "execution_count": 24,
   "metadata": {},
   "outputs": [
    {
     "data": {
      "text/plain": [
       "'2024-11-24T23:59:13'"
      ]
     },
     "execution_count": 24,
     "metadata": {},
     "output_type": "execute_result"
    }
   ],
   "source": [
    "from datetime import datetime\n",
    "datetime.utcfromtimestamp(1732492753770/1000).strftime('%Y-%m-%dT%H:%M:%S')"
   ]
  },
  {
   "cell_type": "code",
   "execution_count": 38,
   "metadata": {},
   "outputs": [
    {
     "data": {
      "text/plain": [
       "'2024-11-25T12:23:33'"
      ]
     },
     "execution_count": 38,
     "metadata": {},
     "output_type": "execute_result"
    }
   ],
   "source": [
    "datetime.now().strftime('%Y-%m-%dT%H:%M:%S')"
   ]
  },
  {
   "cell_type": "code",
   "execution_count": 44,
   "metadata": {},
   "outputs": [],
   "source": [
    "import pymongo\n",
    "def connect_mongo(\n",
    "        mongo_client: str = \"mongodb://localhost:27017/\",\n",
    "        mongo_db: str = \"earthquake_db\",\n",
    "        mongo_collection: str = \"earthquakes\",\n",
    "    ) -> tuple:\n",
    "    \"\"\"_summary_\n",
    "\n",
    "    Parameters\n",
    "    ----------\n",
    "    mongo_client : _type_, optional\n",
    "        url de connexion à la base de données MongoDB, by default \"mongodb://localhost:27017/\"\n",
    "    mongo_db : str, optional\n",
    "        _description_, by default \"earthquake_db\"\n",
    "    mongo_collection : str, optional\n",
    "        _description_, by default \"earthquakes\"\n",
    "\n",
    "    Returns\n",
    "    -------\n",
    "    tuple\n",
    "        Tuple contenant le client mongo, la db et la collection pour requêter la base de données\n",
    "    \"\"\"\n",
    "\n",
    "    client = pymongo.MongoClient(mongo_client)\n",
    "    db = client[mongo_db]\n",
    "    collection = db[mongo_collection]\n",
    "\n",
    "    return client, db, collection"
   ]
  },
  {
   "cell_type": "code",
   "execution_count": 46,
   "metadata": {},
   "outputs": [],
   "source": [
    "client, db, collection = connect_mongo(mongo_db=\"superheroes\", mongo_collection=\"info\")"
   ]
  },
  {
   "cell_type": "code",
   "execution_count": 47,
   "metadata": {},
   "outputs": [
    {
     "data": {
      "text/plain": [
       "pymongo.synchronous.collection.Collection"
      ]
     },
     "execution_count": 47,
     "metadata": {},
     "output_type": "execute_result"
    }
   ],
   "source": [
    "type(collection)"
   ]
  },
  {
   "cell_type": "code",
   "execution_count": 69,
   "metadata": {},
   "outputs": [
    {
     "data": {
      "text/plain": [
       "pymongo.synchronous.mongo_client.MongoClient"
      ]
     },
     "execution_count": 69,
     "metadata": {},
     "output_type": "execute_result"
    }
   ],
   "source": [
    "type(client)"
   ]
  },
  {
   "cell_type": "code",
   "execution_count": 49,
   "metadata": {},
   "outputs": [],
   "source": [
    "result = collection.aggregate([\n",
    "    {\"$group\": {\"_id\": None, \"maxScore\": {\"$max\": \"$weight(kg)\"}}}\n",
    "])"
   ]
  },
  {
   "cell_type": "code",
   "execution_count": 51,
   "metadata": {},
   "outputs": [
    {
     "name": "stdout",
     "output_type": "stream",
     "text": [
      "Valeur maximale : 900.0\n"
     ]
    }
   ],
   "source": [
    "max_value = next(result, None)\n",
    "if max_value:\n",
    "    print(\"Valeur maximale :\", max_value[\"maxScore\"])\n",
    "else:\n",
    "    print(\"Aucun document trouvé.\")"
   ]
  },
  {
   "cell_type": "code",
   "execution_count": null,
   "metadata": {},
   "outputs": [],
   "source": [
    "import pandas as pd"
   ]
  },
  {
   "cell_type": "code",
   "execution_count": 58,
   "metadata": {},
   "outputs": [
    {
     "name": "stdout",
     "output_type": "stream",
     "text": [
      "{'type': 'Feature', 'properties': {'mag': 1.6, 'place': '53 km NW of Toyah, Texas', 'time': 1732530093219, 'updated': 1732530409152, 'tz': None, 'url': 'https://earthquake.usgs.gov/earthquakes/eventpage/tx2024xdxb', 'detail': 'https://earthquake.usgs.gov/fdsnws/event/1/query?eventid=tx2024xdxb&format=geojson', 'felt': None, 'cdi': None, 'mmi': None, 'alert': None, 'status': 'automatic', 'tsunami': 0, 'sig': 39, 'net': 'tx', 'code': '2024xdxb', 'ids': ',tx2024xdxb,', 'sources': ',tx,', 'types': ',origin,phase-data,', 'nst': 17, 'dmin': 0.1, 'rms': 0.5, 'gap': 103, 'magType': 'ml', 'type': 'earthquake', 'title': 'M 1.6 - 53 km NW of Toyah, Texas'}, 'geometry': {'type': 'Point', 'coordinates': [-104.18, 31.667, 5.5381]}, 'id': 'tx2024xdxb'}\n"
     ]
    }
   ],
   "source": [
    "import pandas as pd\n",
    "data=res[\"features\"][0]\n",
    "print(data)"
   ]
  },
  {
   "cell_type": "code",
   "execution_count": 61,
   "metadata": {},
   "outputs": [
    {
     "data": {
      "text/plain": [
       "{'mag': 1.6,\n",
       " 'place': '53 km NW of Toyah, Texas',\n",
       " 'time': 1732530093219,\n",
       " 'updated': 1732530409152,\n",
       " 'tz': None,\n",
       " 'url': 'https://earthquake.usgs.gov/earthquakes/eventpage/tx2024xdxb',\n",
       " 'detail': 'https://earthquake.usgs.gov/fdsnws/event/1/query?eventid=tx2024xdxb&format=geojson',\n",
       " 'felt': None,\n",
       " 'cdi': None,\n",
       " 'mmi': None,\n",
       " 'alert': None,\n",
       " 'status': 'automatic',\n",
       " 'tsunami': 0,\n",
       " 'sig': 39,\n",
       " 'net': 'tx',\n",
       " 'code': '2024xdxb',\n",
       " 'ids': ',tx2024xdxb,',\n",
       " 'sources': ',tx,',\n",
       " 'types': ',origin,phase-data,',\n",
       " 'nst': 17,\n",
       " 'dmin': 0.1,\n",
       " 'rms': 0.5,\n",
       " 'gap': 103,\n",
       " 'magType': 'ml',\n",
       " 'type': 'earthquake',\n",
       " 'title': 'M 1.6 - 53 km NW of Toyah, Texas'}"
      ]
     },
     "execution_count": 61,
     "metadata": {},
     "output_type": "execute_result"
    }
   ],
   "source": [
    "res[\"features\"][0][\"properties\"]"
   ]
  },
  {
   "cell_type": "code",
   "execution_count": null,
   "metadata": {},
   "outputs": [],
   "source": []
  },
  {
   "cell_type": "markdown",
   "metadata": {},
   "source": [
    "Au dessus, on veut garder ```mag```, ```place```, ```time```, ```type```, ```nst```, ```dmin```, ```sig```, ```magType```"
   ]
  },
  {
   "cell_type": "code",
   "execution_count": 66,
   "metadata": {},
   "outputs": [
    {
     "data": {
      "text/plain": [
       "{'type': 'Point', 'coordinates': [-104.18, 31.667, 5.5381]}"
      ]
     },
     "execution_count": 66,
     "metadata": {},
     "output_type": "execute_result"
    }
   ],
   "source": [
    "res[\"features\"][0][\"geometry\"]"
   ]
  },
  {
   "cell_type": "code",
   "execution_count": 67,
   "metadata": {},
   "outputs": [],
   "source": [
    "final_dict = {\n",
    "    \"mag\": res[\"features\"][0][\"properties\"][\"mag\"],\n",
    "    \"place\": res[\"features\"][0][\"properties\"][\"place\"],\n",
    "    \"time\": res[\"features\"][0][\"properties\"][\"time\"],\n",
    "    \"type\": res[\"features\"][0][\"properties\"][\"type\"],\n",
    "    \"nst\": res[\"features\"][0][\"properties\"][\"nst\"],\n",
    "    \"dmin\": res[\"features\"][0][\"properties\"][\"dmin\"],\n",
    "    \"sig\": res[\"features\"][0][\"properties\"][\"sig\"],\n",
    "    \"magType\": res[\"features\"][0][\"properties\"][\"magType\"],\n",
    "    \"geometryType\" : res[\"features\"][0][\"geometry\"][\"type\"],\n",
    "    \"coordinates\" : res[\"features\"][0][\"geometry\"][\"coordinates\"]\n",
    "}"
   ]
  },
  {
   "cell_type": "code",
   "execution_count": 68,
   "metadata": {},
   "outputs": [
    {
     "data": {
      "text/plain": [
       "{'mag': 1.6,\n",
       " 'place': '53 km NW of Toyah, Texas',\n",
       " 'time': 1732530093219,\n",
       " 'type': 'earthquake',\n",
       " 'nst': 17,\n",
       " 'dmin': 0.1,\n",
       " 'sig': 39,\n",
       " 'magType': 'ml',\n",
       " 'geometryType': 'Point',\n",
       " 'coordinates': [-104.18, 31.667, 5.5381]}"
      ]
     },
     "execution_count": 68,
     "metadata": {},
     "output_type": "execute_result"
    }
   ],
   "source": [
    "final_dict"
   ]
  },
  {
   "cell_type": "code",
   "execution_count": null,
   "metadata": {},
   "outputs": [],
   "source": []
  }
 ],
 "metadata": {
  "kernelspec": {
   "display_name": "earthquake_env",
   "language": "python",
   "name": "python3"
  },
  "language_info": {
   "codemirror_mode": {
    "name": "ipython",
    "version": 3
   },
   "file_extension": ".py",
   "mimetype": "text/x-python",
   "name": "python",
   "nbconvert_exporter": "python",
   "pygments_lexer": "ipython3",
   "version": "3.11.2"
  }
 },
 "nbformat": 4,
 "nbformat_minor": 2
}
